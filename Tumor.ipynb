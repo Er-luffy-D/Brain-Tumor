{
  "nbformat": 4,
  "nbformat_minor": 0,
  "metadata": {
    "colab": {
      "provenance": [],
      "authorship_tag": "ABX9TyPLYGOEfDQohJ1IrYyZRPxg",
      "include_colab_link": true
    },
    "kernelspec": {
      "name": "python3",
      "display_name": "Python 3"
    },
    "language_info": {
      "name": "python"
    }
  },
  "cells": [
    {
      "cell_type": "markdown",
      "metadata": {
        "id": "view-in-github",
        "colab_type": "text"
      },
      "source": [
        "<a href=\"https://colab.research.google.com/github/Er-luffy-D/Brain-Tumor/blob/main/Tumor.ipynb\" target=\"_parent\"><img src=\"https://colab.research.google.com/assets/colab-badge.svg\" alt=\"Open In Colab\"/></a>"
      ]
    },
    {
      "cell_type": "code",
      "execution_count": null,
      "metadata": {
        "colab": {
          "base_uri": "https://localhost:8080/"
        },
        "id": "OWg-V8qb3BXz",
        "outputId": "04f07ebf-bb4b-4f60-bfbf-a3c7a39652fe"
      },
      "outputs": [
        {
          "output_type": "stream",
          "name": "stdout",
          "text": [
            "Downloading from https://www.kaggle.com/api/v1/datasets/download/preetviradiya/brian-tumor-dataset?dataset_version_number=1...\n"
          ]
        },
        {
          "output_type": "stream",
          "name": "stderr",
          "text": [
            "100%|██████████| 107M/107M [00:03<00:00, 34.4MB/s]"
          ]
        },
        {
          "output_type": "stream",
          "name": "stdout",
          "text": [
            "Extracting files...\n"
          ]
        },
        {
          "output_type": "stream",
          "name": "stderr",
          "text": [
            "\n"
          ]
        },
        {
          "output_type": "stream",
          "name": "stdout",
          "text": [
            "Path to dataset files: /content/brian_tumor_dataset\n",
            "'Brain Tumor Data Set'\t metadata.csv   metadata_rgb_only.csv\n"
          ]
        }
      ],
      "source": [
        "import kagglehub\n",
        "import shutil\n",
        "import os\n",
        "\n",
        "# Download dataset and store the path to it\n",
        "path = kagglehub.dataset_download(\"preetviradiya/brian-tumor-dataset\")\n",
        "\n",
        "# Define a new destination path for easier access\n",
        "destination_path = \"/content/brian_tumor_dataset\"\n",
        "\n",
        "# Move the dataset to the new location\n",
        "if os.path.exists(destination_path):\n",
        "    shutil.rmtree(destination_path)  # Remove if already exists\n",
        "shutil.move(path, destination_path)\n",
        "\n",
        "print(\"Path to dataset files:\", destination_path)\n",
        "\n",
        "# Verify by listing the files in the new directory\n",
        "!ls /content/brian_tumor_dataset\n"
      ]
    },
    {
      "cell_type": "code",
      "source": [
        "from pathlib import Path\n",
        "image_folder=Path(destination_path)\n",
        "len(list(image_folder.glob(\"*/*/*/*.jpg\")))"
      ],
      "metadata": {
        "colab": {
          "base_uri": "https://localhost:8080/"
        },
        "id": "w1PfThDn329T",
        "outputId": "c793a552-2420-4345-dea4-c012a96863af"
      },
      "execution_count": null,
      "outputs": [
        {
          "output_type": "execute_result",
          "data": {
            "text/plain": [
              "4432"
            ]
          },
          "metadata": {},
          "execution_count": 11
        }
      ]
    },
    {
      "cell_type": "code",
      "source": [],
      "metadata": {
        "id": "Rz-sgJgV4IdW"
      },
      "execution_count": null,
      "outputs": []
    }
  ]
}